{
 "cells": [
  {
   "cell_type": "markdown",
   "id": "5ec603b6",
   "metadata": {},
   "source": [
    "### Poisson Model to Predict Match Outcomes"
   ]
  },
  {
   "cell_type": "markdown",
   "id": "0c4a429e",
   "metadata": {},
   "source": [
    "The aim of the project to build a web app that predicts football match results of 2023/24 season using poisson distribution model. \n",
    "\n",
    "The web app is a Streamlit dashboard that can be used to analyze English Premier League Results using Poisson distribution model"
   ]
  },
  {
   "cell_type": "markdown",
   "id": "41fbe93b",
   "metadata": {},
   "source": [
    "### Import Packages"
   ]
  },
  {
   "cell_type": "code",
   "execution_count": 2,
   "id": "31d51e5d",
   "metadata": {},
   "outputs": [],
   "source": [
    "import pandas as pd\n",
    "import numpy as np\n",
    "from scipy.stats import poisson\n",
    "import statsmodels.api as sm\n",
    "import statsmodels.formula.api as smf\n",
    "import seaborn as sns \n",
    "import matplotlib.pyplot as plt \n",
    "import streamlit as st"
   ]
  },
  {
   "cell_type": "markdown",
   "id": "b1bdb974",
   "metadata": {},
   "source": [
    "###  Webscrapping Football Data "
   ]
  },
  {
   "cell_type": "markdown",
   "id": "c33dbba8",
   "metadata": {},
   "source": [
    "The dataset is a live English Premier league standings, fixtures and scores table. For this project dataset was scraped from [Fbref.](https://fbref.com/en/)"
   ]
  },
  {
   "cell_type": "code",
   "execution_count": 47,
   "id": "a0bf02b5",
   "metadata": {},
   "outputs": [
    {
     "data": {
      "text/html": [
       "<div>\n",
       "<style scoped>\n",
       "    .dataframe tbody tr th:only-of-type {\n",
       "        vertical-align: middle;\n",
       "    }\n",
       "\n",
       "    .dataframe tbody tr th {\n",
       "        vertical-align: top;\n",
       "    }\n",
       "\n",
       "    .dataframe thead th {\n",
       "        text-align: right;\n",
       "    }\n",
       "</style>\n",
       "<table border=\"1\" class=\"dataframe\">\n",
       "  <thead>\n",
       "    <tr style=\"text-align: right;\">\n",
       "      <th></th>\n",
       "      <th>Wk</th>\n",
       "      <th>Day</th>\n",
       "      <th>Date</th>\n",
       "      <th>Time</th>\n",
       "      <th>Home</th>\n",
       "      <th>xG</th>\n",
       "      <th>Score</th>\n",
       "      <th>xG.1</th>\n",
       "      <th>Away</th>\n",
       "      <th>Attendance</th>\n",
       "      <th>Venue</th>\n",
       "      <th>Referee</th>\n",
       "      <th>Match Report</th>\n",
       "      <th>Notes</th>\n",
       "    </tr>\n",
       "  </thead>\n",
       "  <tbody>\n",
       "    <tr>\n",
       "      <th>413</th>\n",
       "      <td>38.0</td>\n",
       "      <td>Sun</td>\n",
       "      <td>2024-05-19</td>\n",
       "      <td>NaN</td>\n",
       "      <td>Brentford</td>\n",
       "      <td>NaN</td>\n",
       "      <td>NaN</td>\n",
       "      <td>NaN</td>\n",
       "      <td>Newcastle Utd</td>\n",
       "      <td>NaN</td>\n",
       "      <td>Gtech Community Stadium</td>\n",
       "      <td>NaN</td>\n",
       "      <td>Head-to-Head</td>\n",
       "      <td>NaN</td>\n",
       "    </tr>\n",
       "    <tr>\n",
       "      <th>414</th>\n",
       "      <td>38.0</td>\n",
       "      <td>Sun</td>\n",
       "      <td>2024-05-19</td>\n",
       "      <td>NaN</td>\n",
       "      <td>Chelsea</td>\n",
       "      <td>NaN</td>\n",
       "      <td>NaN</td>\n",
       "      <td>NaN</td>\n",
       "      <td>Bournemouth</td>\n",
       "      <td>NaN</td>\n",
       "      <td>Stamford Bridge</td>\n",
       "      <td>NaN</td>\n",
       "      <td>Head-to-Head</td>\n",
       "      <td>NaN</td>\n",
       "    </tr>\n",
       "    <tr>\n",
       "      <th>415</th>\n",
       "      <td>38.0</td>\n",
       "      <td>Sun</td>\n",
       "      <td>2024-05-19</td>\n",
       "      <td>NaN</td>\n",
       "      <td>Crystal Palace</td>\n",
       "      <td>NaN</td>\n",
       "      <td>NaN</td>\n",
       "      <td>NaN</td>\n",
       "      <td>Aston Villa</td>\n",
       "      <td>NaN</td>\n",
       "      <td>Selhurst Park</td>\n",
       "      <td>NaN</td>\n",
       "      <td>Head-to-Head</td>\n",
       "      <td>NaN</td>\n",
       "    </tr>\n",
       "    <tr>\n",
       "      <th>416</th>\n",
       "      <td>38.0</td>\n",
       "      <td>Sun</td>\n",
       "      <td>2024-05-19</td>\n",
       "      <td>NaN</td>\n",
       "      <td>Liverpool</td>\n",
       "      <td>NaN</td>\n",
       "      <td>NaN</td>\n",
       "      <td>NaN</td>\n",
       "      <td>Wolves</td>\n",
       "      <td>NaN</td>\n",
       "      <td>Anfield</td>\n",
       "      <td>NaN</td>\n",
       "      <td>Head-to-Head</td>\n",
       "      <td>NaN</td>\n",
       "    </tr>\n",
       "    <tr>\n",
       "      <th>417</th>\n",
       "      <td>38.0</td>\n",
       "      <td>Sun</td>\n",
       "      <td>2024-05-19</td>\n",
       "      <td>NaN</td>\n",
       "      <td>Burnley</td>\n",
       "      <td>NaN</td>\n",
       "      <td>NaN</td>\n",
       "      <td>NaN</td>\n",
       "      <td>Nott'ham Forest</td>\n",
       "      <td>NaN</td>\n",
       "      <td>Turf Moor</td>\n",
       "      <td>NaN</td>\n",
       "      <td>Head-to-Head</td>\n",
       "      <td>NaN</td>\n",
       "    </tr>\n",
       "  </tbody>\n",
       "</table>\n",
       "</div>"
      ],
      "text/plain": [
       "       Wk  Day        Date Time            Home  xG Score  xG.1  \\\n",
       "413  38.0  Sun  2024-05-19  NaN       Brentford NaN   NaN   NaN   \n",
       "414  38.0  Sun  2024-05-19  NaN         Chelsea NaN   NaN   NaN   \n",
       "415  38.0  Sun  2024-05-19  NaN  Crystal Palace NaN   NaN   NaN   \n",
       "416  38.0  Sun  2024-05-19  NaN       Liverpool NaN   NaN   NaN   \n",
       "417  38.0  Sun  2024-05-19  NaN         Burnley NaN   NaN   NaN   \n",
       "\n",
       "                Away  Attendance                    Venue Referee  \\\n",
       "413    Newcastle Utd         NaN  Gtech Community Stadium     NaN   \n",
       "414      Bournemouth         NaN          Stamford Bridge     NaN   \n",
       "415      Aston Villa         NaN            Selhurst Park     NaN   \n",
       "416           Wolves         NaN                  Anfield     NaN   \n",
       "417  Nott'ham Forest         NaN                Turf Moor     NaN   \n",
       "\n",
       "     Match Report Notes  \n",
       "413  Head-to-Head   NaN  \n",
       "414  Head-to-Head   NaN  \n",
       "415  Head-to-Head   NaN  \n",
       "416  Head-to-Head   NaN  \n",
       "417  Head-to-Head   NaN  "
      ]
     },
     "execution_count": 47,
     "metadata": {},
     "output_type": "execute_result"
    }
   ],
   "source": [
    "url='https://fbref.com/en/comps/9/schedule/Premier-League-Scores-and-Fixtures'\n",
    "ligue_list = []\n",
    "\n",
    "ligue_list.append(pd.read_html(url,index_col=False,flavor='lxml')[0])\n",
    "ligue_list = pd.concat(ligue_list, axis=0, ignore_index=True)\n",
    "pl_df = ligue_list[ligue_list['Wk'].notna()] # drop na\n",
    "\n",
    "pl_df.head()"
   ]
  },
  {
   "cell_type": "markdown",
   "id": "293489c1",
   "metadata": {},
   "source": [
    "### Feature Engineering"
   ]
  },
  {
   "cell_type": "code",
   "execution_count": 48,
   "id": "70189a86",
   "metadata": {},
   "outputs": [],
   "source": [
    "pl_df=pl_df.rename(columns={'Home':'HomeTeam','Away':'AwayTeam'})\n",
    "pl_df=pl_df.rename(columns={'xG':'XGHome','xG.1':'XGAway'})\n",
    "pl_df['HomeGoals'] = pl_df['Score'].str[0]\n",
    "pl_df['AwayGoals'] = pl_df['Score'].str[2]\n",
    "pl_df=pl_df[['Date', 'Time','HomeTeam', 'AwayTeam','XGHome', 'Score', 'XGAway','HomeGoals','AwayGoals']].reset_index(drop=True)\n"
   ]
  },
  {
   "cell_type": "code",
   "execution_count": 49,
   "id": "1d77f9d8",
   "metadata": {},
   "outputs": [
    {
     "data": {
      "text/html": [
       "<div>\n",
       "<style scoped>\n",
       "    .dataframe tbody tr th:only-of-type {\n",
       "        vertical-align: middle;\n",
       "    }\n",
       "\n",
       "    .dataframe tbody tr th {\n",
       "        vertical-align: top;\n",
       "    }\n",
       "\n",
       "    .dataframe thead th {\n",
       "        text-align: right;\n",
       "    }\n",
       "</style>\n",
       "<table border=\"1\" class=\"dataframe\">\n",
       "  <thead>\n",
       "    <tr style=\"text-align: right;\">\n",
       "      <th></th>\n",
       "      <th>Date</th>\n",
       "      <th>Time</th>\n",
       "      <th>HomeTeam</th>\n",
       "      <th>AwayTeam</th>\n",
       "      <th>XGHome</th>\n",
       "      <th>Score</th>\n",
       "      <th>XGAway</th>\n",
       "      <th>HomeGoals</th>\n",
       "      <th>AwayGoals</th>\n",
       "    </tr>\n",
       "  </thead>\n",
       "  <tbody>\n",
       "    <tr>\n",
       "      <th>0</th>\n",
       "      <td>2023-08-11</td>\n",
       "      <td>20:00</td>\n",
       "      <td>Burnley</td>\n",
       "      <td>Manchester City</td>\n",
       "      <td>0.3</td>\n",
       "      <td>0–3</td>\n",
       "      <td>1.9</td>\n",
       "      <td>0</td>\n",
       "      <td>3</td>\n",
       "    </tr>\n",
       "    <tr>\n",
       "      <th>1</th>\n",
       "      <td>2023-08-12</td>\n",
       "      <td>12:30</td>\n",
       "      <td>Arsenal</td>\n",
       "      <td>Nott'ham Forest</td>\n",
       "      <td>0.8</td>\n",
       "      <td>2–1</td>\n",
       "      <td>1.2</td>\n",
       "      <td>2</td>\n",
       "      <td>1</td>\n",
       "    </tr>\n",
       "    <tr>\n",
       "      <th>2</th>\n",
       "      <td>2023-08-12</td>\n",
       "      <td>15:00</td>\n",
       "      <td>Everton</td>\n",
       "      <td>Fulham</td>\n",
       "      <td>2.7</td>\n",
       "      <td>0–1</td>\n",
       "      <td>1.5</td>\n",
       "      <td>0</td>\n",
       "      <td>1</td>\n",
       "    </tr>\n",
       "    <tr>\n",
       "      <th>3</th>\n",
       "      <td>2023-08-12</td>\n",
       "      <td>15:00</td>\n",
       "      <td>Sheffield Utd</td>\n",
       "      <td>Crystal Palace</td>\n",
       "      <td>0.5</td>\n",
       "      <td>0–1</td>\n",
       "      <td>1.9</td>\n",
       "      <td>0</td>\n",
       "      <td>1</td>\n",
       "    </tr>\n",
       "    <tr>\n",
       "      <th>4</th>\n",
       "      <td>2023-08-12</td>\n",
       "      <td>15:00</td>\n",
       "      <td>Brighton</td>\n",
       "      <td>Luton Town</td>\n",
       "      <td>4.0</td>\n",
       "      <td>4–1</td>\n",
       "      <td>1.5</td>\n",
       "      <td>4</td>\n",
       "      <td>1</td>\n",
       "    </tr>\n",
       "    <tr>\n",
       "      <th>...</th>\n",
       "      <td>...</td>\n",
       "      <td>...</td>\n",
       "      <td>...</td>\n",
       "      <td>...</td>\n",
       "      <td>...</td>\n",
       "      <td>...</td>\n",
       "      <td>...</td>\n",
       "      <td>...</td>\n",
       "      <td>...</td>\n",
       "    </tr>\n",
       "    <tr>\n",
       "      <th>375</th>\n",
       "      <td>2024-05-19</td>\n",
       "      <td>NaN</td>\n",
       "      <td>Brentford</td>\n",
       "      <td>Newcastle Utd</td>\n",
       "      <td>NaN</td>\n",
       "      <td>NaN</td>\n",
       "      <td>NaN</td>\n",
       "      <td>NaN</td>\n",
       "      <td>NaN</td>\n",
       "    </tr>\n",
       "    <tr>\n",
       "      <th>376</th>\n",
       "      <td>2024-05-19</td>\n",
       "      <td>NaN</td>\n",
       "      <td>Chelsea</td>\n",
       "      <td>Bournemouth</td>\n",
       "      <td>NaN</td>\n",
       "      <td>NaN</td>\n",
       "      <td>NaN</td>\n",
       "      <td>NaN</td>\n",
       "      <td>NaN</td>\n",
       "    </tr>\n",
       "    <tr>\n",
       "      <th>377</th>\n",
       "      <td>2024-05-19</td>\n",
       "      <td>NaN</td>\n",
       "      <td>Crystal Palace</td>\n",
       "      <td>Aston Villa</td>\n",
       "      <td>NaN</td>\n",
       "      <td>NaN</td>\n",
       "      <td>NaN</td>\n",
       "      <td>NaN</td>\n",
       "      <td>NaN</td>\n",
       "    </tr>\n",
       "    <tr>\n",
       "      <th>378</th>\n",
       "      <td>2024-05-19</td>\n",
       "      <td>NaN</td>\n",
       "      <td>Liverpool</td>\n",
       "      <td>Wolves</td>\n",
       "      <td>NaN</td>\n",
       "      <td>NaN</td>\n",
       "      <td>NaN</td>\n",
       "      <td>NaN</td>\n",
       "      <td>NaN</td>\n",
       "    </tr>\n",
       "    <tr>\n",
       "      <th>379</th>\n",
       "      <td>2024-05-19</td>\n",
       "      <td>NaN</td>\n",
       "      <td>Burnley</td>\n",
       "      <td>Nott'ham Forest</td>\n",
       "      <td>NaN</td>\n",
       "      <td>NaN</td>\n",
       "      <td>NaN</td>\n",
       "      <td>NaN</td>\n",
       "      <td>NaN</td>\n",
       "    </tr>\n",
       "  </tbody>\n",
       "</table>\n",
       "<p>380 rows × 9 columns</p>\n",
       "</div>"
      ],
      "text/plain": [
       "           Date   Time        HomeTeam         AwayTeam  XGHome Score  XGAway  \\\n",
       "0    2023-08-11  20:00         Burnley  Manchester City     0.3   0–3     1.9   \n",
       "1    2023-08-12  12:30         Arsenal  Nott'ham Forest     0.8   2–1     1.2   \n",
       "2    2023-08-12  15:00         Everton           Fulham     2.7   0–1     1.5   \n",
       "3    2023-08-12  15:00   Sheffield Utd   Crystal Palace     0.5   0–1     1.9   \n",
       "4    2023-08-12  15:00        Brighton       Luton Town     4.0   4–1     1.5   \n",
       "..          ...    ...             ...              ...     ...   ...     ...   \n",
       "375  2024-05-19    NaN       Brentford    Newcastle Utd     NaN   NaN     NaN   \n",
       "376  2024-05-19    NaN         Chelsea      Bournemouth     NaN   NaN     NaN   \n",
       "377  2024-05-19    NaN  Crystal Palace      Aston Villa     NaN   NaN     NaN   \n",
       "378  2024-05-19    NaN       Liverpool           Wolves     NaN   NaN     NaN   \n",
       "379  2024-05-19    NaN         Burnley  Nott'ham Forest     NaN   NaN     NaN   \n",
       "\n",
       "    HomeGoals AwayGoals  \n",
       "0           0         3  \n",
       "1           2         1  \n",
       "2           0         1  \n",
       "3           0         1  \n",
       "4           4         1  \n",
       "..        ...       ...  \n",
       "375       NaN       NaN  \n",
       "376       NaN       NaN  \n",
       "377       NaN       NaN  \n",
       "378       NaN       NaN  \n",
       "379       NaN       NaN  \n",
       "\n",
       "[380 rows x 9 columns]"
      ]
     },
     "execution_count": 49,
     "metadata": {},
     "output_type": "execute_result"
    }
   ],
   "source": [
    "pl_df"
   ]
  },
  {
   "cell_type": "code",
   "execution_count": 50,
   "id": "304af00d",
   "metadata": {},
   "outputs": [],
   "source": [
    "df = pd.concat([pl_df[['HomeTeam','AwayTeam','HomeGoals']].assign(home=1).rename(\n",
    "            columns={'HomeTeam':'team', 'AwayTeam':'opponent','HomeGoals':'goals'}),\n",
    "           pl_df[['AwayTeam','HomeTeam','AwayGoals']].assign(home=0).rename(\n",
    "            columns={'AwayTeam':'team', 'HomeTeam':'opponent','AwayGoals':'goals'})])"
   ]
  },
  {
   "cell_type": "code",
   "execution_count": 58,
   "id": "cd3d25e6",
   "metadata": {},
   "outputs": [
    {
     "data": {
      "text/html": [
       "<div>\n",
       "<style scoped>\n",
       "    .dataframe tbody tr th:only-of-type {\n",
       "        vertical-align: middle;\n",
       "    }\n",
       "\n",
       "    .dataframe tbody tr th {\n",
       "        vertical-align: top;\n",
       "    }\n",
       "\n",
       "    .dataframe thead th {\n",
       "        text-align: right;\n",
       "    }\n",
       "</style>\n",
       "<table border=\"1\" class=\"dataframe\">\n",
       "  <thead>\n",
       "    <tr style=\"text-align: right;\">\n",
       "      <th></th>\n",
       "      <th>team</th>\n",
       "      <th>opponent</th>\n",
       "      <th>goals</th>\n",
       "      <th>home</th>\n",
       "    </tr>\n",
       "  </thead>\n",
       "  <tbody>\n",
       "    <tr>\n",
       "      <th>125</th>\n",
       "      <td>Crystal Palace</td>\n",
       "      <td>Luton Town</td>\n",
       "      <td>1</td>\n",
       "      <td>0</td>\n",
       "    </tr>\n",
       "    <tr>\n",
       "      <th>126</th>\n",
       "      <td>Arsenal</td>\n",
       "      <td>Brentford</td>\n",
       "      <td>1</td>\n",
       "      <td>0</td>\n",
       "    </tr>\n",
       "    <tr>\n",
       "      <th>127</th>\n",
       "      <td>Aston Villa</td>\n",
       "      <td>Tottenham</td>\n",
       "      <td>2</td>\n",
       "      <td>0</td>\n",
       "    </tr>\n",
       "    <tr>\n",
       "      <th>128</th>\n",
       "      <td>Manchester Utd</td>\n",
       "      <td>Everton</td>\n",
       "      <td>3</td>\n",
       "      <td>0</td>\n",
       "    </tr>\n",
       "    <tr>\n",
       "      <th>129</th>\n",
       "      <td>Wolves</td>\n",
       "      <td>Fulham</td>\n",
       "      <td>2</td>\n",
       "      <td>0</td>\n",
       "    </tr>\n",
       "  </tbody>\n",
       "</table>\n",
       "</div>"
      ],
      "text/plain": [
       "               team    opponent  goals  home\n",
       "125  Crystal Palace  Luton Town      1     0\n",
       "126         Arsenal   Brentford      1     0\n",
       "127     Aston Villa   Tottenham      2     0\n",
       "128  Manchester Utd     Everton      3     0\n",
       "129          Wolves      Fulham      2     0"
      ]
     },
     "execution_count": 58,
     "metadata": {},
     "output_type": "execute_result"
    }
   ],
   "source": [
    "df.tail()"
   ]
  },
  {
   "cell_type": "code",
   "execution_count": 52,
   "id": "d5324f24",
   "metadata": {},
   "outputs": [],
   "source": [
    "df = df.dropna()"
   ]
  },
  {
   "cell_type": "code",
   "execution_count": 53,
   "id": "9753a56a",
   "metadata": {},
   "outputs": [
    {
     "data": {
      "text/plain": [
       "(260, 4)"
      ]
     },
     "execution_count": 53,
     "metadata": {},
     "output_type": "execute_result"
    }
   ],
   "source": [
    "df.shape"
   ]
  },
  {
   "cell_type": "code",
   "execution_count": 54,
   "id": "4b2b916b",
   "metadata": {},
   "outputs": [
    {
     "name": "stdout",
     "output_type": "stream",
     "text": [
      "<class 'pandas.core.frame.DataFrame'>\n",
      "Int64Index: 260 entries, 0 to 129\n",
      "Data columns (total 4 columns):\n",
      " #   Column    Non-Null Count  Dtype \n",
      "---  ------    --------------  ----- \n",
      " 0   team      260 non-null    object\n",
      " 1   opponent  260 non-null    object\n",
      " 2   goals     260 non-null    object\n",
      " 3   home      260 non-null    int64 \n",
      "dtypes: int64(1), object(3)\n",
      "memory usage: 10.2+ KB\n"
     ]
    }
   ],
   "source": [
    "df.info()"
   ]
  },
  {
   "cell_type": "code",
   "execution_count": 55,
   "id": "4705d9c0",
   "metadata": {},
   "outputs": [
    {
     "name": "stdout",
     "output_type": "stream",
     "text": [
      "<class 'pandas.core.frame.DataFrame'>\n",
      "Int64Index: 260 entries, 0 to 129\n",
      "Data columns (total 4 columns):\n",
      " #   Column    Non-Null Count  Dtype \n",
      "---  ------    --------------  ----- \n",
      " 0   team      260 non-null    object\n",
      " 1   opponent  260 non-null    object\n",
      " 2   goals     260 non-null    int64 \n",
      " 3   home      260 non-null    int64 \n",
      "dtypes: int64(2), object(2)\n",
      "memory usage: 10.2+ KB\n"
     ]
    }
   ],
   "source": [
    "df['goals'] = df['goals'].astype('int')\n",
    "df.info()"
   ]
  },
  {
   "cell_type": "code",
   "execution_count": 59,
   "id": "35aa664e",
   "metadata": {},
   "outputs": [
    {
     "data": {
      "text/html": [
       "<div>\n",
       "<style scoped>\n",
       "    .dataframe tbody tr th:only-of-type {\n",
       "        vertical-align: middle;\n",
       "    }\n",
       "\n",
       "    .dataframe tbody tr th {\n",
       "        vertical-align: top;\n",
       "    }\n",
       "\n",
       "    .dataframe thead th {\n",
       "        text-align: right;\n",
       "    }\n",
       "</style>\n",
       "<table border=\"1\" class=\"dataframe\">\n",
       "  <thead>\n",
       "    <tr style=\"text-align: right;\">\n",
       "      <th></th>\n",
       "      <th>team</th>\n",
       "      <th>opponent</th>\n",
       "      <th>goals</th>\n",
       "      <th>home</th>\n",
       "    </tr>\n",
       "  </thead>\n",
       "  <tbody>\n",
       "    <tr>\n",
       "      <th>0</th>\n",
       "      <td>Burnley</td>\n",
       "      <td>Manchester City</td>\n",
       "      <td>0</td>\n",
       "      <td>1</td>\n",
       "    </tr>\n",
       "    <tr>\n",
       "      <th>1</th>\n",
       "      <td>Arsenal</td>\n",
       "      <td>Nott'ham Forest</td>\n",
       "      <td>2</td>\n",
       "      <td>1</td>\n",
       "    </tr>\n",
       "    <tr>\n",
       "      <th>2</th>\n",
       "      <td>Everton</td>\n",
       "      <td>Fulham</td>\n",
       "      <td>0</td>\n",
       "      <td>1</td>\n",
       "    </tr>\n",
       "    <tr>\n",
       "      <th>3</th>\n",
       "      <td>Sheffield Utd</td>\n",
       "      <td>Crystal Palace</td>\n",
       "      <td>0</td>\n",
       "      <td>1</td>\n",
       "    </tr>\n",
       "    <tr>\n",
       "      <th>4</th>\n",
       "      <td>Brighton</td>\n",
       "      <td>Luton Town</td>\n",
       "      <td>4</td>\n",
       "      <td>1</td>\n",
       "    </tr>\n",
       "    <tr>\n",
       "      <th>5</th>\n",
       "      <td>Bournemouth</td>\n",
       "      <td>West Ham</td>\n",
       "      <td>1</td>\n",
       "      <td>1</td>\n",
       "    </tr>\n",
       "    <tr>\n",
       "      <th>6</th>\n",
       "      <td>Newcastle Utd</td>\n",
       "      <td>Aston Villa</td>\n",
       "      <td>5</td>\n",
       "      <td>1</td>\n",
       "    </tr>\n",
       "    <tr>\n",
       "      <th>7</th>\n",
       "      <td>Brentford</td>\n",
       "      <td>Tottenham</td>\n",
       "      <td>2</td>\n",
       "      <td>1</td>\n",
       "    </tr>\n",
       "    <tr>\n",
       "      <th>8</th>\n",
       "      <td>Chelsea</td>\n",
       "      <td>Liverpool</td>\n",
       "      <td>1</td>\n",
       "      <td>1</td>\n",
       "    </tr>\n",
       "    <tr>\n",
       "      <th>9</th>\n",
       "      <td>Manchester Utd</td>\n",
       "      <td>Wolves</td>\n",
       "      <td>1</td>\n",
       "      <td>1</td>\n",
       "    </tr>\n",
       "  </tbody>\n",
       "</table>\n",
       "</div>"
      ],
      "text/plain": [
       "             team         opponent  goals  home\n",
       "0         Burnley  Manchester City      0     1\n",
       "1         Arsenal  Nott'ham Forest      2     1\n",
       "2         Everton           Fulham      0     1\n",
       "3   Sheffield Utd   Crystal Palace      0     1\n",
       "4        Brighton       Luton Town      4     1\n",
       "5     Bournemouth         West Ham      1     1\n",
       "6   Newcastle Utd      Aston Villa      5     1\n",
       "7       Brentford        Tottenham      2     1\n",
       "8         Chelsea        Liverpool      1     1\n",
       "9  Manchester Utd           Wolves      1     1"
      ]
     },
     "execution_count": 59,
     "metadata": {},
     "output_type": "execute_result"
    }
   ],
   "source": [
    "df.head(10)"
   ]
  },
  {
   "cell_type": "markdown",
   "id": "17ae7295",
   "metadata": {},
   "source": [
    "### Build a Statistical Model"
   ]
  },
  {
   "cell_type": "code",
   "execution_count": 56,
   "id": "12ab4b79",
   "metadata": {},
   "outputs": [],
   "source": [
    "# building the poisson model\n",
    "formula = 'goals ~ team + opponent + home'\n",
    "model = smf.glm(formula=formula, data=df, family=sm.families.Poisson()).fit()"
   ]
  },
  {
   "cell_type": "code",
   "execution_count": 45,
   "id": "12f7143d",
   "metadata": {},
   "outputs": [
    {
     "data": {
      "text/html": [
       "<table class=\"simpletable\">\n",
       "<caption>Generalized Linear Model Regression Results</caption>\n",
       "<tr>\n",
       "  <th>Dep. Variable:</th>         <td>goals</td>      <th>  No. Observations:  </th>  <td>   260</td> \n",
       "</tr>\n",
       "<tr>\n",
       "  <th>Model:</th>                  <td>GLM</td>       <th>  Df Residuals:      </th>  <td>   220</td> \n",
       "</tr>\n",
       "<tr>\n",
       "  <th>Model Family:</th>         <td>Poisson</td>     <th>  Df Model:          </th>  <td>    39</td> \n",
       "</tr>\n",
       "<tr>\n",
       "  <th>Link Function:</th>          <td>Log</td>       <th>  Scale:             </th> <td>  1.0000</td>\n",
       "</tr>\n",
       "<tr>\n",
       "  <th>Method:</th>                <td>IRLS</td>       <th>  Log-Likelihood:    </th> <td> -364.07</td>\n",
       "</tr>\n",
       "<tr>\n",
       "  <th>Date:</th>            <td>Wed, 29 Nov 2023</td> <th>  Deviance:          </th> <td>  216.89</td>\n",
       "</tr>\n",
       "<tr>\n",
       "  <th>Time:</th>                <td>23:07:06</td>     <th>  Pearson chi2:      </th>  <td>  183.</td> \n",
       "</tr>\n",
       "<tr>\n",
       "  <th>No. Iterations:</th>          <td>5</td>        <th>  Pseudo R-squ. (CS):</th>  <td>0.2912</td> \n",
       "</tr>\n",
       "<tr>\n",
       "  <th>Covariance Type:</th>     <td>nonrobust</td>    <th>                     </th>     <td> </td>   \n",
       "</tr>\n",
       "</table>\n",
       "<table class=\"simpletable\">\n",
       "<tr>\n",
       "               <td></td>                  <th>coef</th>     <th>std err</th>      <th>z</th>      <th>P>|z|</th>  <th>[0.025</th>    <th>0.975]</th>  \n",
       "</tr>\n",
       "<tr>\n",
       "  <th>Intercept</th>                   <td>   -0.0268</td> <td>    0.383</td> <td>   -0.070</td> <td> 0.944</td> <td>   -0.777</td> <td>    0.724</td>\n",
       "</tr>\n",
       "<tr>\n",
       "  <th>team[T.Aston Villa]</th>         <td>    0.1807</td> <td>    0.270</td> <td>    0.670</td> <td> 0.503</td> <td>   -0.348</td> <td>    0.709</td>\n",
       "</tr>\n",
       "<tr>\n",
       "  <th>team[T.Bournemouth]</th>         <td>   -0.5978</td> <td>    0.334</td> <td>   -1.790</td> <td> 0.073</td> <td>   -1.252</td> <td>    0.057</td>\n",
       "</tr>\n",
       "<tr>\n",
       "  <th>team[T.Brentford]</th>           <td>   -0.2702</td> <td>    0.303</td> <td>   -0.893</td> <td> 0.372</td> <td>   -0.863</td> <td>    0.323</td>\n",
       "</tr>\n",
       "<tr>\n",
       "  <th>team[T.Brighton]</th>            <td>    0.0739</td> <td>    0.275</td> <td>    0.268</td> <td> 0.788</td> <td>   -0.466</td> <td>    0.614</td>\n",
       "</tr>\n",
       "<tr>\n",
       "  <th>team[T.Burnley]</th>             <td>   -0.8644</td> <td>    0.374</td> <td>   -2.309</td> <td> 0.021</td> <td>   -1.598</td> <td>   -0.131</td>\n",
       "</tr>\n",
       "<tr>\n",
       "  <th>team[T.Chelsea]</th>             <td>   -0.0820</td> <td>    0.293</td> <td>   -0.280</td> <td> 0.780</td> <td>   -0.657</td> <td>    0.493</td>\n",
       "</tr>\n",
       "<tr>\n",
       "  <th>team[T.Crystal Palace]</th>      <td>   -0.6962</td> <td>    0.341</td> <td>   -2.042</td> <td> 0.041</td> <td>   -1.365</td> <td>   -0.028</td>\n",
       "</tr>\n",
       "<tr>\n",
       "  <th>team[T.Everton]</th>             <td>   -0.6353</td> <td>    0.335</td> <td>   -1.894</td> <td> 0.058</td> <td>   -1.293</td> <td>    0.022</td>\n",
       "</tr>\n",
       "<tr>\n",
       "  <th>team[T.Fulham]</th>              <td>   -0.6801</td> <td>    0.342</td> <td>   -1.987</td> <td> 0.047</td> <td>   -1.351</td> <td>   -0.009</td>\n",
       "</tr>\n",
       "<tr>\n",
       "  <th>team[T.Liverpool]</th>           <td>    0.0995</td> <td>    0.277</td> <td>    0.359</td> <td> 0.719</td> <td>   -0.443</td> <td>    0.642</td>\n",
       "</tr>\n",
       "<tr>\n",
       "  <th>team[T.Luton Town]</th>          <td>   -0.7627</td> <td>    0.351</td> <td>   -2.171</td> <td> 0.030</td> <td>   -1.451</td> <td>   -0.074</td>\n",
       "</tr>\n",
       "<tr>\n",
       "  <th>team[T.Manchester City]</th>     <td>    0.2371</td> <td>    0.265</td> <td>    0.895</td> <td> 0.371</td> <td>   -0.282</td> <td>    0.756</td>\n",
       "</tr>\n",
       "<tr>\n",
       "  <th>team[T.Manchester Utd]</th>      <td>   -0.5300</td> <td>    0.319</td> <td>   -1.660</td> <td> 0.097</td> <td>   -1.156</td> <td>    0.096</td>\n",
       "</tr>\n",
       "<tr>\n",
       "  <th>team[T.Newcastle Utd]</th>       <td>    0.1717</td> <td>    0.270</td> <td>    0.636</td> <td> 0.524</td> <td>   -0.357</td> <td>    0.700</td>\n",
       "</tr>\n",
       "<tr>\n",
       "  <th>team[T.Nott'ham Forest]</th>     <td>   -0.4794</td> <td>    0.321</td> <td>   -1.494</td> <td> 0.135</td> <td>   -1.108</td> <td>    0.150</td>\n",
       "</tr>\n",
       "<tr>\n",
       "  <th>team[T.Sheffield Utd]</th>       <td>   -0.8066</td> <td>    0.362</td> <td>   -2.230</td> <td> 0.026</td> <td>   -1.516</td> <td>   -0.098</td>\n",
       "</tr>\n",
       "<tr>\n",
       "  <th>team[T.Tottenham]</th>           <td>   -0.0492</td> <td>    0.282</td> <td>   -0.174</td> <td> 0.862</td> <td>   -0.603</td> <td>    0.504</td>\n",
       "</tr>\n",
       "<tr>\n",
       "  <th>team[T.West Ham]</th>            <td>   -0.1251</td> <td>    0.288</td> <td>   -0.435</td> <td> 0.664</td> <td>   -0.690</td> <td>    0.439</td>\n",
       "</tr>\n",
       "<tr>\n",
       "  <th>team[T.Wolves]</th>              <td>   -0.3143</td> <td>    0.309</td> <td>   -1.016</td> <td> 0.310</td> <td>   -0.921</td> <td>    0.292</td>\n",
       "</tr>\n",
       "<tr>\n",
       "  <th>opponent[T.Aston Villa]</th>     <td>    0.4962</td> <td>    0.399</td> <td>    1.244</td> <td> 0.214</td> <td>   -0.286</td> <td>    1.278</td>\n",
       "</tr>\n",
       "<tr>\n",
       "  <th>opponent[T.Bournemouth]</th>     <td>    0.8355</td> <td>    0.372</td> <td>    2.243</td> <td> 0.025</td> <td>    0.106</td> <td>    1.565</td>\n",
       "</tr>\n",
       "<tr>\n",
       "  <th>opponent[T.Brentford]</th>       <td>    0.5292</td> <td>    0.397</td> <td>    1.332</td> <td> 0.183</td> <td>   -0.250</td> <td>    1.308</td>\n",
       "</tr>\n",
       "<tr>\n",
       "  <th>opponent[T.Brighton]</th>        <td>    0.7457</td> <td>    0.384</td> <td>    1.944</td> <td> 0.052</td> <td>   -0.006</td> <td>    1.498</td>\n",
       "</tr>\n",
       "<tr>\n",
       "  <th>opponent[T.Burnley]</th>         <td>    1.0122</td> <td>    0.365</td> <td>    2.771</td> <td> 0.006</td> <td>    0.296</td> <td>    1.728</td>\n",
       "</tr>\n",
       "<tr>\n",
       "  <th>opponent[T.Chelsea]</th>         <td>    0.5418</td> <td>    0.391</td> <td>    1.385</td> <td> 0.166</td> <td>   -0.225</td> <td>    1.309</td>\n",
       "</tr>\n",
       "<tr>\n",
       "  <th>opponent[T.Crystal Palace]</th>  <td>    0.5590</td> <td>    0.398</td> <td>    1.403</td> <td> 0.161</td> <td>   -0.222</td> <td>    1.340</td>\n",
       "</tr>\n",
       "<tr>\n",
       "  <th>opponent[T.Everton]</th>         <td>    0.6307</td> <td>    0.395</td> <td>    1.598</td> <td> 0.110</td> <td>   -0.143</td> <td>    1.404</td>\n",
       "</tr>\n",
       "<tr>\n",
       "  <th>opponent[T.Fulham]</th>          <td>    0.6385</td> <td>    0.386</td> <td>    1.653</td> <td> 0.098</td> <td>   -0.119</td> <td>    1.396</td>\n",
       "</tr>\n",
       "<tr>\n",
       "  <th>opponent[T.Liverpool]</th>       <td>   -0.1135</td> <td>    0.440</td> <td>   -0.258</td> <td> 0.796</td> <td>   -0.976</td> <td>    0.749</td>\n",
       "</tr>\n",
       "<tr>\n",
       "  <th>opponent[T.Luton Town]</th>      <td>    0.7396</td> <td>    0.384</td> <td>    1.924</td> <td> 0.054</td> <td>   -0.014</td> <td>    1.493</td>\n",
       "</tr>\n",
       "<tr>\n",
       "  <th>opponent[T.Manchester City]</th> <td>    0.1778</td> <td>    0.425</td> <td>    0.418</td> <td> 0.676</td> <td>   -0.656</td> <td>    1.011</td>\n",
       "</tr>\n",
       "<tr>\n",
       "  <th>opponent[T.Manchester Utd]</th>  <td>    0.4808</td> <td>    0.407</td> <td>    1.180</td> <td> 0.238</td> <td>   -0.318</td> <td>    1.279</td>\n",
       "</tr>\n",
       "<tr>\n",
       "  <th>opponent[T.Newcastle Utd]</th>   <td>    0.1813</td> <td>    0.419</td> <td>    0.433</td> <td> 0.665</td> <td>   -0.640</td> <td>    1.003</td>\n",
       "</tr>\n",
       "<tr>\n",
       "  <th>opponent[T.Nott'ham Forest]</th> <td>    0.5806</td> <td>    0.390</td> <td>    1.489</td> <td> 0.136</td> <td>   -0.184</td> <td>    1.345</td>\n",
       "</tr>\n",
       "<tr>\n",
       "  <th>opponent[T.Sheffield Utd]</th>   <td>    1.1071</td> <td>    0.364</td> <td>    3.041</td> <td> 0.002</td> <td>    0.394</td> <td>    1.821</td>\n",
       "</tr>\n",
       "<tr>\n",
       "  <th>opponent[T.Tottenham]</th>       <td>    0.5366</td> <td>    0.404</td> <td>    1.328</td> <td> 0.184</td> <td>   -0.255</td> <td>    1.328</td>\n",
       "</tr>\n",
       "<tr>\n",
       "  <th>opponent[T.West Ham]</th>        <td>    0.6916</td> <td>    0.383</td> <td>    1.807</td> <td> 0.071</td> <td>   -0.058</td> <td>    1.442</td>\n",
       "</tr>\n",
       "<tr>\n",
       "  <th>opponent[T.Wolves]</th>          <td>    0.7469</td> <td>    0.383</td> <td>    1.951</td> <td> 0.051</td> <td>   -0.003</td> <td>    1.497</td>\n",
       "</tr>\n",
       "<tr>\n",
       "  <th>home</th>                        <td>    0.2063</td> <td>    0.102</td> <td>    2.030</td> <td> 0.042</td> <td>    0.007</td> <td>    0.406</td>\n",
       "</tr>\n",
       "</table>"
      ],
      "text/latex": [
       "\\begin{center}\n",
       "\\begin{tabular}{lclc}\n",
       "\\toprule\n",
       "\\textbf{Dep. Variable:}              &      goals       & \\textbf{  No. Observations:  } &      260    \\\\\n",
       "\\textbf{Model:}                      &       GLM        & \\textbf{  Df Residuals:      } &      220    \\\\\n",
       "\\textbf{Model Family:}               &     Poisson      & \\textbf{  Df Model:          } &       39    \\\\\n",
       "\\textbf{Link Function:}              &       Log        & \\textbf{  Scale:             } &    1.0000   \\\\\n",
       "\\textbf{Method:}                     &       IRLS       & \\textbf{  Log-Likelihood:    } &   -364.07   \\\\\n",
       "\\textbf{Date:}                       & Wed, 29 Nov 2023 & \\textbf{  Deviance:          } &    216.89   \\\\\n",
       "\\textbf{Time:}                       &     23:07:06     & \\textbf{  Pearson chi2:      } &     183.    \\\\\n",
       "\\textbf{No. Iterations:}             &        5         & \\textbf{  Pseudo R-squ. (CS):} &   0.2912    \\\\\n",
       "\\textbf{Covariance Type:}            &    nonrobust     & \\textbf{                     } &             \\\\\n",
       "\\bottomrule\n",
       "\\end{tabular}\n",
       "\\begin{tabular}{lcccccc}\n",
       "                                     & \\textbf{coef} & \\textbf{std err} & \\textbf{z} & \\textbf{P$> |$z$|$} & \\textbf{[0.025} & \\textbf{0.975]}  \\\\\n",
       "\\midrule\n",
       "\\textbf{Intercept}                   &      -0.0268  &        0.383     &    -0.070  &         0.944        &       -0.777    &        0.724     \\\\\n",
       "\\textbf{team[T.Aston Villa]}         &       0.1807  &        0.270     &     0.670  &         0.503        &       -0.348    &        0.709     \\\\\n",
       "\\textbf{team[T.Bournemouth]}         &      -0.5978  &        0.334     &    -1.790  &         0.073        &       -1.252    &        0.057     \\\\\n",
       "\\textbf{team[T.Brentford]}           &      -0.2702  &        0.303     &    -0.893  &         0.372        &       -0.863    &        0.323     \\\\\n",
       "\\textbf{team[T.Brighton]}            &       0.0739  &        0.275     &     0.268  &         0.788        &       -0.466    &        0.614     \\\\\n",
       "\\textbf{team[T.Burnley]}             &      -0.8644  &        0.374     &    -2.309  &         0.021        &       -1.598    &       -0.131     \\\\\n",
       "\\textbf{team[T.Chelsea]}             &      -0.0820  &        0.293     &    -0.280  &         0.780        &       -0.657    &        0.493     \\\\\n",
       "\\textbf{team[T.Crystal Palace]}      &      -0.6962  &        0.341     &    -2.042  &         0.041        &       -1.365    &       -0.028     \\\\\n",
       "\\textbf{team[T.Everton]}             &      -0.6353  &        0.335     &    -1.894  &         0.058        &       -1.293    &        0.022     \\\\\n",
       "\\textbf{team[T.Fulham]}              &      -0.6801  &        0.342     &    -1.987  &         0.047        &       -1.351    &       -0.009     \\\\\n",
       "\\textbf{team[T.Liverpool]}           &       0.0995  &        0.277     &     0.359  &         0.719        &       -0.443    &        0.642     \\\\\n",
       "\\textbf{team[T.Luton Town]}          &      -0.7627  &        0.351     &    -2.171  &         0.030        &       -1.451    &       -0.074     \\\\\n",
       "\\textbf{team[T.Manchester City]}     &       0.2371  &        0.265     &     0.895  &         0.371        &       -0.282    &        0.756     \\\\\n",
       "\\textbf{team[T.Manchester Utd]}      &      -0.5300  &        0.319     &    -1.660  &         0.097        &       -1.156    &        0.096     \\\\\n",
       "\\textbf{team[T.Newcastle Utd]}       &       0.1717  &        0.270     &     0.636  &         0.524        &       -0.357    &        0.700     \\\\\n",
       "\\textbf{team[T.Nott'ham Forest]}     &      -0.4794  &        0.321     &    -1.494  &         0.135        &       -1.108    &        0.150     \\\\\n",
       "\\textbf{team[T.Sheffield Utd]}       &      -0.8066  &        0.362     &    -2.230  &         0.026        &       -1.516    &       -0.098     \\\\\n",
       "\\textbf{team[T.Tottenham]}           &      -0.0492  &        0.282     &    -0.174  &         0.862        &       -0.603    &        0.504     \\\\\n",
       "\\textbf{team[T.West Ham]}            &      -0.1251  &        0.288     &    -0.435  &         0.664        &       -0.690    &        0.439     \\\\\n",
       "\\textbf{team[T.Wolves]}              &      -0.3143  &        0.309     &    -1.016  &         0.310        &       -0.921    &        0.292     \\\\\n",
       "\\textbf{opponent[T.Aston Villa]}     &       0.4962  &        0.399     &     1.244  &         0.214        &       -0.286    &        1.278     \\\\\n",
       "\\textbf{opponent[T.Bournemouth]}     &       0.8355  &        0.372     &     2.243  &         0.025        &        0.106    &        1.565     \\\\\n",
       "\\textbf{opponent[T.Brentford]}       &       0.5292  &        0.397     &     1.332  &         0.183        &       -0.250    &        1.308     \\\\\n",
       "\\textbf{opponent[T.Brighton]}        &       0.7457  &        0.384     &     1.944  &         0.052        &       -0.006    &        1.498     \\\\\n",
       "\\textbf{opponent[T.Burnley]}         &       1.0122  &        0.365     &     2.771  &         0.006        &        0.296    &        1.728     \\\\\n",
       "\\textbf{opponent[T.Chelsea]}         &       0.5418  &        0.391     &     1.385  &         0.166        &       -0.225    &        1.309     \\\\\n",
       "\\textbf{opponent[T.Crystal Palace]}  &       0.5590  &        0.398     &     1.403  &         0.161        &       -0.222    &        1.340     \\\\\n",
       "\\textbf{opponent[T.Everton]}         &       0.6307  &        0.395     &     1.598  &         0.110        &       -0.143    &        1.404     \\\\\n",
       "\\textbf{opponent[T.Fulham]}          &       0.6385  &        0.386     &     1.653  &         0.098        &       -0.119    &        1.396     \\\\\n",
       "\\textbf{opponent[T.Liverpool]}       &      -0.1135  &        0.440     &    -0.258  &         0.796        &       -0.976    &        0.749     \\\\\n",
       "\\textbf{opponent[T.Luton Town]}      &       0.7396  &        0.384     &     1.924  &         0.054        &       -0.014    &        1.493     \\\\\n",
       "\\textbf{opponent[T.Manchester City]} &       0.1778  &        0.425     &     0.418  &         0.676        &       -0.656    &        1.011     \\\\\n",
       "\\textbf{opponent[T.Manchester Utd]}  &       0.4808  &        0.407     &     1.180  &         0.238        &       -0.318    &        1.279     \\\\\n",
       "\\textbf{opponent[T.Newcastle Utd]}   &       0.1813  &        0.419     &     0.433  &         0.665        &       -0.640    &        1.003     \\\\\n",
       "\\textbf{opponent[T.Nott'ham Forest]} &       0.5806  &        0.390     &     1.489  &         0.136        &       -0.184    &        1.345     \\\\\n",
       "\\textbf{opponent[T.Sheffield Utd]}   &       1.1071  &        0.364     &     3.041  &         0.002        &        0.394    &        1.821     \\\\\n",
       "\\textbf{opponent[T.Tottenham]}       &       0.5366  &        0.404     &     1.328  &         0.184        &       -0.255    &        1.328     \\\\\n",
       "\\textbf{opponent[T.West Ham]}        &       0.6916  &        0.383     &     1.807  &         0.071        &       -0.058    &        1.442     \\\\\n",
       "\\textbf{opponent[T.Wolves]}          &       0.7469  &        0.383     &     1.951  &         0.051        &       -0.003    &        1.497     \\\\\n",
       "\\textbf{home}                        &       0.2063  &        0.102     &     2.030  &         0.042        &        0.007    &        0.406     \\\\\n",
       "\\bottomrule\n",
       "\\end{tabular}\n",
       "%\\caption{Generalized Linear Model Regression Results}\n",
       "\\end{center}"
      ],
      "text/plain": [
       "<class 'statsmodels.iolib.summary.Summary'>\n",
       "\"\"\"\n",
       "                 Generalized Linear Model Regression Results                  \n",
       "==============================================================================\n",
       "Dep. Variable:                  goals   No. Observations:                  260\n",
       "Model:                            GLM   Df Residuals:                      220\n",
       "Model Family:                 Poisson   Df Model:                           39\n",
       "Link Function:                    Log   Scale:                          1.0000\n",
       "Method:                          IRLS   Log-Likelihood:                -364.07\n",
       "Date:                Wed, 29 Nov 2023   Deviance:                       216.89\n",
       "Time:                        23:07:06   Pearson chi2:                     183.\n",
       "No. Iterations:                     5   Pseudo R-squ. (CS):             0.2912\n",
       "Covariance Type:            nonrobust                                         \n",
       "===============================================================================================\n",
       "                                  coef    std err          z      P>|z|      [0.025      0.975]\n",
       "-----------------------------------------------------------------------------------------------\n",
       "Intercept                      -0.0268      0.383     -0.070      0.944      -0.777       0.724\n",
       "team[T.Aston Villa]             0.1807      0.270      0.670      0.503      -0.348       0.709\n",
       "team[T.Bournemouth]            -0.5978      0.334     -1.790      0.073      -1.252       0.057\n",
       "team[T.Brentford]              -0.2702      0.303     -0.893      0.372      -0.863       0.323\n",
       "team[T.Brighton]                0.0739      0.275      0.268      0.788      -0.466       0.614\n",
       "team[T.Burnley]                -0.8644      0.374     -2.309      0.021      -1.598      -0.131\n",
       "team[T.Chelsea]                -0.0820      0.293     -0.280      0.780      -0.657       0.493\n",
       "team[T.Crystal Palace]         -0.6962      0.341     -2.042      0.041      -1.365      -0.028\n",
       "team[T.Everton]                -0.6353      0.335     -1.894      0.058      -1.293       0.022\n",
       "team[T.Fulham]                 -0.6801      0.342     -1.987      0.047      -1.351      -0.009\n",
       "team[T.Liverpool]               0.0995      0.277      0.359      0.719      -0.443       0.642\n",
       "team[T.Luton Town]             -0.7627      0.351     -2.171      0.030      -1.451      -0.074\n",
       "team[T.Manchester City]         0.2371      0.265      0.895      0.371      -0.282       0.756\n",
       "team[T.Manchester Utd]         -0.5300      0.319     -1.660      0.097      -1.156       0.096\n",
       "team[T.Newcastle Utd]           0.1717      0.270      0.636      0.524      -0.357       0.700\n",
       "team[T.Nott'ham Forest]        -0.4794      0.321     -1.494      0.135      -1.108       0.150\n",
       "team[T.Sheffield Utd]          -0.8066      0.362     -2.230      0.026      -1.516      -0.098\n",
       "team[T.Tottenham]              -0.0492      0.282     -0.174      0.862      -0.603       0.504\n",
       "team[T.West Ham]               -0.1251      0.288     -0.435      0.664      -0.690       0.439\n",
       "team[T.Wolves]                 -0.3143      0.309     -1.016      0.310      -0.921       0.292\n",
       "opponent[T.Aston Villa]         0.4962      0.399      1.244      0.214      -0.286       1.278\n",
       "opponent[T.Bournemouth]         0.8355      0.372      2.243      0.025       0.106       1.565\n",
       "opponent[T.Brentford]           0.5292      0.397      1.332      0.183      -0.250       1.308\n",
       "opponent[T.Brighton]            0.7457      0.384      1.944      0.052      -0.006       1.498\n",
       "opponent[T.Burnley]             1.0122      0.365      2.771      0.006       0.296       1.728\n",
       "opponent[T.Chelsea]             0.5418      0.391      1.385      0.166      -0.225       1.309\n",
       "opponent[T.Crystal Palace]      0.5590      0.398      1.403      0.161      -0.222       1.340\n",
       "opponent[T.Everton]             0.6307      0.395      1.598      0.110      -0.143       1.404\n",
       "opponent[T.Fulham]              0.6385      0.386      1.653      0.098      -0.119       1.396\n",
       "opponent[T.Liverpool]          -0.1135      0.440     -0.258      0.796      -0.976       0.749\n",
       "opponent[T.Luton Town]          0.7396      0.384      1.924      0.054      -0.014       1.493\n",
       "opponent[T.Manchester City]     0.1778      0.425      0.418      0.676      -0.656       1.011\n",
       "opponent[T.Manchester Utd]      0.4808      0.407      1.180      0.238      -0.318       1.279\n",
       "opponent[T.Newcastle Utd]       0.1813      0.419      0.433      0.665      -0.640       1.003\n",
       "opponent[T.Nott'ham Forest]     0.5806      0.390      1.489      0.136      -0.184       1.345\n",
       "opponent[T.Sheffield Utd]       1.1071      0.364      3.041      0.002       0.394       1.821\n",
       "opponent[T.Tottenham]           0.5366      0.404      1.328      0.184      -0.255       1.328\n",
       "opponent[T.West Ham]            0.6916      0.383      1.807      0.071      -0.058       1.442\n",
       "opponent[T.Wolves]              0.7469      0.383      1.951      0.051      -0.003       1.497\n",
       "home                            0.2063      0.102      2.030      0.042       0.007       0.406\n",
       "===============================================================================================\n",
       "\"\"\""
      ]
     },
     "execution_count": 45,
     "metadata": {},
     "output_type": "execute_result"
    }
   ],
   "source": [
    "model.summary()"
   ]
  },
  {
   "cell_type": "code",
   "execution_count": 60,
   "id": "f5fdb8c1",
   "metadata": {},
   "outputs": [
    {
     "data": {
      "text/plain": [
       "1.2291218852559347"
      ]
     },
     "execution_count": 60,
     "metadata": {},
     "output_type": "execute_result"
    }
   ],
   "source": [
    "np.exp(0.2063)"
   ]
  },
  {
   "cell_type": "markdown",
   "id": "ccb1da54",
   "metadata": {},
   "source": [
    "The home teams generally score more goals (1.23 times more likely) than the away team as can be seen from the model summary."
   ]
  },
  {
   "cell_type": "markdown",
   "id": "f60eed35",
   "metadata": {},
   "source": [
    "Let’s start making some predictions for the upcoming matches. We need to input the teams into the model and it returns the expected average number of goals for the teams"
   ]
  },
  {
   "cell_type": "markdown",
   "id": "33cbe867",
   "metadata": {},
   "source": [
    "Let's start with the weekend's two games \n",
    "- **Liverpool Vs Fulham**\n",
    "- **Brentford Vs Luton Town**\n",
    "\n",
    "and then coompare the poisson model odds we built with a bookmakers odds. The model above can be used to compare results for any game. "
   ]
  },
  {
   "cell_type": "code",
   "execution_count": 61,
   "id": "79dfdd14",
   "metadata": {},
   "outputs": [
    {
     "data": {
      "text/plain": [
       "1    2.503062\n",
       "dtype: float64"
      ]
     },
     "execution_count": 61,
     "metadata": {},
     "output_type": "execute_result"
    }
   ],
   "source": [
    "# predicting the scores\n",
    "model.predict(pd.DataFrame(data={'team': 'Liverpool', 'opponent': 'Fulham',\n",
    "                                       'home':1},index=[1]))"
   ]
  },
  {
   "cell_type": "code",
   "execution_count": 62,
   "id": "84e81e66",
   "metadata": {},
   "outputs": [
    {
     "data": {
      "text/plain": [
       "1    0.440261\n",
       "dtype: float64"
      ]
     },
     "execution_count": 62,
     "metadata": {},
     "output_type": "execute_result"
    }
   ],
   "source": [
    "model.predict(pd.DataFrame(data={'team': 'Fulham', 'opponent': 'Liverpool',\n",
    "                                       'home':0},index=[1]))"
   ]
  },
  {
   "cell_type": "code",
   "execution_count": 76,
   "id": "59358186",
   "metadata": {},
   "outputs": [],
   "source": [
    "#np.sum(np.diag(liverpool_fulham)) # Draw\n",
    "#np.sum(np.triu(liverpool_fulham, 1)) # Fulham win\n",
    "#np.sum(np.tril(liverpool_fulham, -1)) # Liverpool win"
   ]
  },
  {
   "cell_type": "markdown",
   "id": "8aa828d5",
   "metadata": {},
   "source": [
    "There is only a 4.2% chance of Fulham winning the game according to the poisson model while Liverpool has an 82.7/% chance of winning"
   ]
  },
  {
   "cell_type": "code",
   "execution_count": 63,
   "id": "f47ef5af",
   "metadata": {},
   "outputs": [],
   "source": [
    "def future_match(football_model, homeTeam, awayTeam, max_goals=10):\n",
    "    home_goals_avg = football_model.predict(pd.DataFrame(data={'team': homeTeam, \n",
    "                                                            'opponent': awayTeam,'home':1},\n",
    "                                                      index=[1])).values[0]\n",
    "    away_goals_avg = football_model.predict(pd.DataFrame(data={'team': awayTeam, \n",
    "                                                            'opponent': homeTeam,'home':0},\n",
    "                                                      index=[1])).values[0]\n",
    "    team_pred = [[poisson.pmf(i, team_avg) for i in range(0, max_goals+1)] for team_avg in [home_goals_avg, away_goals_avg]]\n",
    "    return(np.outer(np.array(team_pred[0]), (np.array(team_pred[1]))))"
   ]
  },
  {
   "cell_type": "code",
   "execution_count": 65,
   "id": "0736e64d",
   "metadata": {},
   "outputs": [
    {
     "data": {
      "text/plain": [
       "array([[5.26903071e-02, 2.31975117e-02, 5.10648524e-03, 7.49396222e-04,\n",
       "        8.24825694e-05, 7.26277936e-06],\n",
       "       [1.31887121e-01, 5.80648171e-02, 1.27818507e-02, 1.87578543e-03,\n",
       "        2.06459010e-04, 1.81791892e-05],\n",
       "       [1.65060841e-01, 7.26699274e-02, 1.59968843e-02, 2.34760390e-03,\n",
       "        2.58389883e-04, 2.27518216e-05],\n",
       "       [1.37719189e-01, 6.06324520e-02, 1.33470660e-02, 1.95873294e-03,\n",
       "        2.15588658e-04, 1.89830757e-05],\n",
       "       [8.61799279e-02, 3.79417012e-02, 8.35213446e-03, 1.22570765e-03,\n",
       "        1.34907961e-04, 1.18789553e-05],\n",
       "       [4.31427458e-02, 1.89940884e-02, 4.18118258e-03, 6.13604522e-04,\n",
       "        6.75366063e-05, 5.94675303e-06]])"
      ]
     },
     "execution_count": 65,
     "metadata": {},
     "output_type": "execute_result"
    }
   ],
   "source": [
    "future_match(model,'Liverpool','Fulham',max_goals=5)"
   ]
  },
  {
   "cell_type": "markdown",
   "id": "4f1d2cb9",
   "metadata": {},
   "source": [
    "The matrix shows the probability of Liverpool (row) and Fulham (matrix columns) scoring a specific number of goals. For example, along the diagonal, both teams score the same the number of goals (e.g. P(0-0)=0.0614)."
   ]
  },
  {
   "cell_type": "markdown",
   "id": "73975979",
   "metadata": {},
   "source": [
    "##### Score Probability Matrix"
   ]
  },
  {
   "cell_type": "code",
   "execution_count": 70,
   "id": "687f28fb",
   "metadata": {},
   "outputs": [],
   "source": [
    "homeTeam='Brentford'\n",
    "awayTeam='Luton Town'\n",
    "max_goals=5\n",
    "score_matrix=future_match(model,homeTeam,awayTeam,max_goals=5)"
   ]
  },
  {
   "cell_type": "markdown",
   "id": "ad761f84",
   "metadata": {},
   "source": [
    "Plot the score probabilty matrix"
   ]
  },
  {
   "cell_type": "code",
   "execution_count": 72,
   "id": "678eacec",
   "metadata": {},
   "outputs": [
    {
     "data": {
      "image/png": "[encoded data removed]",
      "text/plain": [
       "<Figure size 640x480 with 2 Axes>"
      ]
     },
     "metadata": {},
     "output_type": "display_data"
    }
   ],
   "source": [
    "ax=sns.heatmap(score_matrix,linewidths=7,annot=True)\n",
    "ax.set_xlabel('Goals by ' +  str(awayTeam))\n",
    "ax.set_ylabel('Goals by ' +  str(homeTeam))\n",
    "plt.show()"
   ]
  },
  {
   "cell_type": "markdown",
   "id": "59d02d1c",
   "metadata": {},
   "source": [
    "The most likely scoreline between Brentford and Luton is 1-0 or 2-0 (with a combined 25%)."
   ]
  },
  {
   "cell_type": "markdown",
   "id": "5ba8a326",
   "metadata": {},
   "source": [
    "Home win,draw or away win probabilities and odds can be calculated as follows:"
   ]
  },
  {
   "cell_type": "code",
   "execution_count": 73,
   "id": "33dcdde1",
   "metadata": {},
   "outputs": [
    {
     "name": "stdout",
     "output_type": "stream",
     "text": [
      "Brentford win probability is 63.01%\n",
      "Luton Town win probability is 14.34%\n",
      "The probability of the two teams drawing the match is 21.28%\n"
     ]
    }
   ],
   "source": [
    "home_win=np.sum(np.tril(score_matrix,-1))\n",
    "away_win=np.sum(np.triu(score_matrix,1))\n",
    "draw=np.sum(np.diag(score_matrix))\n",
    "print(homeTeam + ' win probability is ' + str(round(home_win*100,2)) + '%' )\n",
    "print(awayTeam + ' win probability is ' + str(round(away_win*100,2)) + '%')\n",
    "print('The probability of the two teams drawing the match is ' + str(round(draw*100,2)) + '%')"
   ]
  },
  {
   "cell_type": "code",
   "execution_count": null,
   "id": "060e8e86",
   "metadata": {},
   "outputs": [],
   "source": []
  },
  {
   "cell_type": "markdown",
   "id": "c2f96f18",
   "metadata": {},
   "source": [
    "As we can see in the latest bets provided by a bookmaker, The bookies have 21.97% chance of a draw while our model suggested more or less similar probability of a draw (21.28%).\n",
    "\n",
    "Brentford has an 67.5% (1/1.48) chance of winning the game which is very close to the odds we get from the poisson model\n",
    "\n",
    "The rest of the project is building a web app to predict footballl match results. The web app is deployed on streamlit."
   ]
  },
  {
   "cell_type": "code",
   "execution_count": null,
   "id": "6a410f6e",
   "metadata": {},
   "outputs": [],
   "source": []
  }
 ],
 "metadata": {
  "kernelspec": {
   "display_name": "Python 3 (ipykernel)",
   "language": "python",
   "name": "python3"
  },
  "language_info": {
   "codemirror_mode": {
    "name": "ipython",
    "version": 3
   },
   "file_extension": ".py",
   "mimetype": "text/x-python",
   "name": "python",
   "nbconvert_exporter": "python",
   "pygments_lexer": "ipython3",
   "version": "3.11.4"
  }
 },
 "nbformat": 4,
 "nbformat_minor": 5
}
